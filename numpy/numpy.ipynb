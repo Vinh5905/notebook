{
 "cells": [
  {
   "cell_type": "code",
   "execution_count": 1,
   "id": "460cc545",
   "metadata": {},
   "outputs": [],
   "source": [
    "import numpy as np"
   ]
  },
  {
   "cell_type": "code",
   "execution_count": null,
   "id": "9d431676",
   "metadata": {},
   "outputs": [],
   "source": [
    "# Template for note\n",
    "'''\n",
    "Mục đích: \n",
    "Code: \n",
    "'''\n",
    "print('Array_1: ', )\n",
    "print('Array_2: ', )\n",
    "print('Array_3: ', )"
   ]
  },
  {
   "cell_type": "markdown",
   "id": "33c31cf5",
   "metadata": {},
   "source": [
    "## **Mảng 1 chiều**"
   ]
  },
  {
   "cell_type": "markdown",
   "id": "ec8cb9f2",
   "metadata": {},
   "source": [
    "### **Tạo mảng**"
   ]
  },
  {
   "cell_type": "code",
   "execution_count": null,
   "id": "d398b23b",
   "metadata": {},
   "outputs": [
    {
     "name": "stdout",
     "output_type": "stream",
     "text": [
      "Array_1:  [10 11 12 13 14 15 16 17 18 19]\n",
      "Array_2:  [10. 12. 14. 16. 18.]\n"
     ]
    }
   ],
   "source": [
    "'''\n",
    "Mục đích: Tạo mảng một chiều từ range\n",
    "Code: np.arrange(start, stop, step, dtype)\n",
    "'''\n",
    "print('Array_1: ', np.arange(10, 20))\n",
    "print('Array_2: ', np.arange(10, 20, 2, np.float64))"
   ]
  },
  {
   "cell_type": "code",
   "execution_count": 23,
   "id": "51e62484",
   "metadata": {},
   "outputs": [
    {
     "name": "stdout",
     "output_type": "stream",
     "text": [
      "Array_1:  [10.  12.5 15.  17.5 20. ]\n",
      "Array_2:  [10. 12. 14. 16. 18.]\n",
      "Array_3:  (array([10. , 12.5, 15. , 17.5, 20. ]), np.float64(2.5))\n"
     ]
    }
   ],
   "source": [
    "'''\n",
    "Mục đích: Tạo mảng có khoảng cách đều nhau từ range\n",
    "Code: np.linspace(start, stop, num, endpoint, dtype, retstep)\n",
    "'''\n",
    "print('Array_1: ', np.linspace(10, 20, 5)) # tính theo điểm\n",
    "print('Array_2: ', np.linspace(10, 20, 5, endpoint=False)) # tính theo khoảng\n",
    "print('Array_3: ', np.linspace(10, 20, 5, retstep=True)) # trả về khoảng cách"
   ]
  },
  {
   "cell_type": "code",
   "execution_count": null,
   "id": "ce4fdcd5",
   "metadata": {},
   "outputs": [
    {
     "name": "stdout",
     "output_type": "stream",
     "text": [
      "Array_1:  [1 2 3 4]\n",
      "Array_2:  [1 2 3 4]\n"
     ]
    }
   ],
   "source": [
    "'''\n",
    "np.array() và np.asarray()\n",
    "'''\n",
    "print('Array_1: ', np.array([1, 2, 3, 4])) # list\n",
    "print('Array_2: ', np.asarray((1, 2, 3, 4))) # tuple"
   ]
  },
  {
   "cell_type": "code",
   "execution_count": null,
   "id": "69f3bc46",
   "metadata": {},
   "outputs": [
    {
     "name": "stdout",
     "output_type": "stream",
     "text": [
      "Array_1: \n",
      " [[1. 1. 1.]\n",
      " [1. 1. 1.]]\n",
      "Array_2: \n",
      " [[0. 0. 0.]\n",
      " [0. 0. 0.]]\n"
     ]
    }
   ],
   "source": [
    "'''\n",
    "Mục đích: Tạo giá trị giả\n",
    "Code: \n",
    "    + np.ones((row_num, col_num), dtype) : Toàn 1\n",
    "    + np.zeros((row_num, col_num), dtype) : Toàn 0\n",
    "'''\n",
    "print('Array_1: \\n', np.ones((2, 3)))\n",
    "print('Array_2: \\n', np.zeros((2, 3)))"
   ]
  },
  {
   "cell_type": "code",
   "execution_count": 128,
   "id": "956f4a77",
   "metadata": {},
   "outputs": [
    {
     "name": "stdout",
     "output_type": "stream",
     "text": [
      "Array_1:  []\n"
     ]
    }
   ],
   "source": [
    "'''\n",
    "Mục đích: Tạo mảng sẵn chưa giá trị để append\n",
    "'''\n",
    "print('Array_1: ', np.empty(shape=(0, 0)))"
   ]
  },
  {
   "cell_type": "markdown",
   "id": "ef1da580",
   "metadata": {},
   "source": [
    "#### **Tạo mảng bằng random**"
   ]
  },
  {
   "cell_type": "code",
   "execution_count": 81,
   "id": "e1c43a08",
   "metadata": {},
   "outputs": [
    {
     "name": "stdout",
     "output_type": "stream",
     "text": [
      "Array_1: \n",
      " [[0.16560676 0.62329445]\n",
      " [0.86578973 0.0930867 ]\n",
      " [0.93316751 0.37799328]]\n",
      "Array_2: \n",
      " [[2 8]\n",
      " [3 6]\n",
      " [0 2]]\n",
      "Array_3: \n",
      " [[8 3]\n",
      " [2 1]\n",
      " [1 2]]\n"
     ]
    }
   ],
   "source": [
    "'''\n",
    "Mục đích: Tạo mảng với giá trị ngẫu nhiên \n",
    "Code: \n",
    "    + np.random.rand(row_num, col_num) : Random trong [0, 1]\n",
    "    + np.random.randint(low, high, size=(row_num, col_num)) : Random từ low -> high\n",
    "'''\n",
    "print('Array_1: \\n', np.random.rand(3, 2))\n",
    "print('Array_2: \\n', np.random.randint(10, size=(3, 2))) # 1 value thì mặc định high\n",
    "print('Array_3: \\n', np.random.randint(1, 10, size=(3, 2)))"
   ]
  },
  {
   "cell_type": "markdown",
   "id": "c8053865",
   "metadata": {},
   "source": [
    "### **Hàm thống kê**"
   ]
  },
  {
   "cell_type": "code",
   "execution_count": null,
   "id": "59635454",
   "metadata": {},
   "outputs": [
    {
     "name": "stdout",
     "output_type": "stream",
     "text": [
      "Array: \n",
      " [[ 0  1]\n",
      " [18 18]\n",
      " [ 0 13]]\n",
      "Mean:  8.333333333333334\n",
      "Mean axis = 0 (tính từng column):  [ 6.         10.66666667]\n",
      "Mean axis = 1 (tính từng row):  [ 0.5 18.   6.5]\n",
      "Median:  7.0\n",
      "Max:  18\n",
      "AMax:  18\n",
      "Coefficient: \n",
      " [[1.         0.97590007]\n",
      " [0.97590007 1.        ]]\n"
     ]
    }
   ],
   "source": [
    "'''\n",
    "Mục đích: Tính toán\n",
    "Code: # Viết np.mean(arr) hoặc arr.mean()\n",
    "    + np.mean(arr) \n",
    "    + np.max(arr), np.min(arr)\n",
    "    + ...\n",
    "\n",
    "'''\n",
    "arr_thong_ke = np.random.randint(20, size=(3, 2))\n",
    "print('Array: \\n', arr_thong_ke)\n",
    "\n",
    "print('Mean: ', arr_thong_ke.mean())\n",
    "print('Mean axis = 0 (tính từng column): ', arr_thong_ke.mean(axis=0)) # tính từng column\n",
    "print('Mean axis = 1 (tính từng row): ', arr_thong_ke.mean(axis=1)) # tính từng row\n",
    "\n",
    "print('Median: ', np.median(arr_thong_ke)) # median k xài đc arr.median()\n",
    "\n",
    "print('Max: ', np.max(arr_thong_ke))\n",
    "print('AMax: ', np.amax(arr_thong_ke))\n",
    "\n",
    "# Peason correlation\n",
    "arr_coefficient = np.array([\n",
    "    [1, 4, 6, 7],\n",
    "    [1, 2, 3, 4]\n",
    "])\n",
    "print('Coefficient: \\n', np.corrcoef(arr_coefficient[0], arr_coefficient[1]))\n",
    "\n",
    "# Tương tự mấy cái khác"
   ]
  },
  {
   "cell_type": "markdown",
   "id": "b238f603",
   "metadata": {},
   "source": [
    "### **Lọc điều kiện**"
   ]
  },
  {
   "cell_type": "code",
   "execution_count": null,
   "id": "1bcd2c31",
   "metadata": {},
   "outputs": [
    {
     "name": "stdout",
     "output_type": "stream",
     "text": [
      "Array:  [93 42 20 14 69 47 66 55 11 26  0 91 29 36 40 24 13 55  0 34]\n",
      "Marks T-F:  [ True False False False  True False  True  True False False False  True\n",
      " False False False False False  True False False]\n",
      "Filter_1:  [93 69 66 55 91 55]\n",
      "Filter_2:  [69 66 55 55]\n"
     ]
    }
   ],
   "source": [
    "'''\n",
    "Mục đích: Filter các phần tử trong mảng với điều kiện\n",
    "Code:\n",
    "    + arr[arr > ...]\n",
    "    + arr[(arr > ...) & (arr < ...)] : Nhiều điều kiện PHẢI CÓ NGOẶC\n",
    "Lưu ý: & and, | or, ~ not\n",
    "'''\n",
    "arr_filters = np.random.randint(100, size=(20, ))\n",
    "print('Array: ', arr_filters)\n",
    "print('Marks T-F: ', arr_filters > 50)\n",
    "print('Filter_1: ', arr_filters[arr_filters > 50])\n",
    "print('Filter_2: ', arr_filters[(arr_filters > 50) & (arr_filters < 70)])"
   ]
  },
  {
   "cell_type": "markdown",
   "id": "ae98ffe9",
   "metadata": {},
   "source": [
    "### **Thao tác trên mảng**"
   ]
  },
  {
   "cell_type": "code",
   "execution_count": 131,
   "id": "c0b5d1b9",
   "metadata": {},
   "outputs": [
    {
     "name": "stdout",
     "output_type": "stream",
     "text": [
      "Array:  [1 6 0 9 7 7 6 6 5 9]\n",
      "Append:  [   1    6    0    9    7    7    6    6    5    9 1000]\n",
      "Insert:  [   1 1000    6    0    9    7    7    6    6    5    9]\n",
      "Delete:  [6 0 9 7 7 6 6 5 9]\n",
      "Sort (tăng dần):  [0 1 5 6 6 6 7 7 9 9]\n",
      "Sort (giảm dần):  [9 9 7 7 6 6 6 5 1 0]\n",
      "Intersect:  [1 5]\n",
      "Diff:  [0 6 7 9]\n"
     ]
    }
   ],
   "source": [
    "'''\n",
    "Mục đích: Thao tác mảng\n",
    "Code:\n",
    "    + np.append(arr, num)\n",
    "    + np.insert(arr, idx, num)\n",
    "    + np.delete(arr, idx)\n",
    "    + ...\n",
    "Lưu ý: Thao tác KHÔNG THAY ĐỔI DỮ LIỆU GỐC\n",
    "'''\n",
    "arr_thao_tac = np.random.randint(10, size=(10, ))\n",
    "print('Array: ', arr_thao_tac)\n",
    "print('Append: ', np.append(arr_thao_tac, 1000))\n",
    "print('Insert: ', np.insert(arr_thao_tac, 1, 1000))\n",
    "print('Delete: ', np.delete(arr_thao_tac, 0))\n",
    "\n",
    "print('Sort (tăng dần): ', np.sort(arr_thao_tac))\n",
    "print('Sort (giảm dần): ', np.sort(arr_thao_tac)[::-1])\n",
    "\n",
    "arr_thao_tac_intersect = np.array([1, 2, 3, 4, 5])\n",
    "print('Intersect: ', np.intersect1d(arr_thao_tac, arr_thao_tac_intersect)) # A giao B (lấy A)\n",
    "\n",
    "arr_thao_tac_diff = np.array([1, 2, 3, 4, 5])\n",
    "print('Diff: ', np.setdiff1d(arr_thao_tac, arr_thao_tac_intersect)) # A khác B (lấy A)"
   ]
  },
  {
   "cell_type": "markdown",
   "id": "d51305c9",
   "metadata": {},
   "source": [
    "### **Mảng dữ liệu tự định nghĩa**"
   ]
  },
  {
   "cell_type": "code",
   "execution_count": null,
   "id": "eaee9f8a",
   "metadata": {},
   "outputs": [
    {
     "name": "stdout",
     "output_type": "stream",
     "text": [
      "[10 20 30]\n"
     ]
    }
   ],
   "source": [
    "'''\n",
    "Mục đích: Định nghĩa type (thường k xài, chủ yếu pandas)\n",
    "Code:\n",
    "    + np.dtype([(name_col_1, type), (name_col_2, type)])\n",
    "'''\n",
    "dt = np.dtype([('age', np.int8)])\n",
    "arr_set_dt = np.array([(10, ), (20, ), (30, )], dtype=dt)\n",
    "print(arr_set_dt['age'])"
   ]
  },
  {
   "cell_type": "markdown",
   "id": "1e5d80e7",
   "metadata": {},
   "source": [
    "### **Một vài hàm**"
   ]
  },
  {
   "cell_type": "code",
   "execution_count": 98,
   "id": "766f2969",
   "metadata": {},
   "outputs": [
    {
     "name": "stdout",
     "output_type": "stream",
     "text": [
      "Array:  [5 9 2 2 2 6 2 6 0 0 7 6]\n",
      "Reshape (normal): \n",
      " [[5 9 2 2]\n",
      " [2 6 2 6]\n",
      " [0 0 7 6]]\n",
      "Reshape (auto): \n",
      " [[5 9]\n",
      " [2 2]\n",
      " [2 6]\n",
      " [2 6]\n",
      " [0 0]\n",
      " [7 6]]\n"
     ]
    }
   ],
   "source": [
    "arr_func = np.random.randint(10, size=(12, ))\n",
    "print('Array: ', arr_func)\n",
    "\n",
    "print('Reshape (normal): \\n', arr_func.reshape(3, 4)) # phải đủ với số phần tử\n",
    "print('Reshape (auto): \\n', arr_func.reshape(-1, 2)) # đặt -1 là tự xác định"
   ]
  },
  {
   "cell_type": "markdown",
   "id": "cd3642de",
   "metadata": {},
   "source": [
    "## **Mảng nhiều chiều**"
   ]
  },
  {
   "cell_type": "code",
   "execution_count": 85,
   "id": "412bb596",
   "metadata": {},
   "outputs": [
    {
     "name": "stdout",
     "output_type": "stream",
     "text": [
      "Array: \n",
      " [[[1 2 6]\n",
      "  [2 2 2]\n",
      "  [8 3 7]]\n",
      "\n",
      " [[9 7 8]\n",
      "  [8 3 2]\n",
      "  [6 9 4]]\n",
      "\n",
      " [[8 9 4]\n",
      "  [9 6 1]\n",
      "  [8 3 5]]]\n"
     ]
    }
   ],
   "source": [
    "arr_nhieu_chieu = np.random.randint(10, size=(3, 3, 3))\n",
    "print('Array: \\n', arr_nhieu_chieu)"
   ]
  },
  {
   "cell_type": "code",
   "execution_count": 92,
   "id": "e44a0bb4",
   "metadata": {},
   "outputs": [
    {
     "name": "stdout",
     "output_type": "stream",
     "text": [
      "Sum (axis = 0): \n",
      " [[18 18 18]\n",
      " [19 11  5]\n",
      " [22 15 16]]\n",
      "Sum (axis = 1): \n",
      " [[11  7 15]\n",
      " [23 19 14]\n",
      " [25 18 10]]\n",
      "Sum (axis = 2): \n",
      " [[ 9  6 18]\n",
      " [24 13 19]\n",
      " [21 16 16]]\n"
     ]
    }
   ],
   "source": [
    "'''\n",
    "Xem lại axis tính :\n",
    "    - Tưởng tượng không gian 3 chiều với data như append dần dần\n",
    "    - Các chiều (tưởng tượng giá trị dồn lại 2 chiều):\n",
    "        + 0 : Trước mặt\n",
    "        + 1 : Mặt trên\n",
    "        + 2 : Mặt trái\n",
    "'''\n",
    "print('Sum (axis = 0): \\n', np.sum(arr_nhieu_chieu, axis=0))\n",
    "print('Sum (axis = 1): \\n', np.sum(arr_nhieu_chieu, axis=1))\n",
    "print('Sum (axis = 2): \\n', np.sum(arr_nhieu_chieu, axis=2))"
   ]
  }
 ],
 "metadata": {
  "kernelspec": {
   "display_name": "venv_notebook",
   "language": "python",
   "name": "python3"
  },
  "language_info": {
   "codemirror_mode": {
    "name": "ipython",
    "version": 3
   },
   "file_extension": ".py",
   "mimetype": "text/x-python",
   "name": "python",
   "nbconvert_exporter": "python",
   "pygments_lexer": "ipython3",
   "version": "3.10.6"
  }
 },
 "nbformat": 4,
 "nbformat_minor": 5
}
